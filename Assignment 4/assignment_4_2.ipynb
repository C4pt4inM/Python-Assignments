{
 "cells": [
  {
   "cell_type": "code",
   "execution_count": 6,
   "metadata": {},
   "outputs": [
    {
     "name": "stdout",
     "output_type": "stream",
     "text": [
      "karachi\n",
      "\t Country: Pakistan\n",
      "\t Population: 198 million\n",
      "\t Fat: Pakistan is one of the richest country in minerals\n",
      "paris\n",
      "\t Country: France\n",
      "\t Population: 67 million\n",
      "\t Fat: Eiffel tower was a temporary construction which became signature afterwards\n",
      "giza\n",
      "\t Country: Egypt\n",
      "\t Population: 98 million\n",
      "\t Fat: Recent Discovery tells that Pyramids are not tombs for pharaohs, but they are large scale chemical batteries\n"
     ]
    }
   ],
   "source": [
    "cities = {\n",
    "    'karachi' : {\n",
    "        'country' : 'Pakistan',\n",
    "        'population' : '198 million',\n",
    "        'fact' : 'Pakistan is one of the richest country in minerals'\n",
    "    },\n",
    "    'paris' : {\n",
    "        'country' : 'France',\n",
    "        'population' : '67 million',\n",
    "        'fact' : 'Eiffel tower was a temporary construction which became signature afterwards'\n",
    "    },\n",
    "    'giza' : {\n",
    "        'country' : 'Egypt',\n",
    "        'population' : '98 million',\n",
    "        'fact' : 'Recent Discovery tells that Pyramids are not tombs for pharaohs, but they are large scale chemical batteries'\n",
    "    } \n",
    "}\n",
    "\n",
    "\n",
    "for city in cities :\n",
    "    print(city)\n",
    "    print('\\t Country: '+cities[city]['country'])\n",
    "    print('\\t Population: '+cities[city]['population'])\n",
    "    print('\\t Fat: '+cities[city]['fact'])"
   ]
  },
  {
   "cell_type": "code",
   "execution_count": null,
   "metadata": {},
   "outputs": [],
   "source": []
  }
 ],
 "metadata": {
  "kernelspec": {
   "display_name": "Python 3",
   "language": "python",
   "name": "python3"
  },
  "language_info": {
   "codemirror_mode": {
    "name": "ipython",
    "version": 3
   },
   "file_extension": ".py",
   "mimetype": "text/x-python",
   "name": "python",
   "nbconvert_exporter": "python",
   "pygments_lexer": "ipython3",
   "version": "3.7.4"
  }
 },
 "nbformat": 4,
 "nbformat_minor": 4
}
