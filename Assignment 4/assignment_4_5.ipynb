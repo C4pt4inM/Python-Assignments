{
 "cells": [
  {
   "cell_type": "code",
   "execution_count": 7,
   "metadata": {},
   "outputs": [
    {
     "name": "stdout",
     "output_type": "stream",
     "text": [
      "========== Guess Me Game ==========\n",
      "Gues me I am a number between 1 - 30\n"
     ]
    },
    {
     "name": "stdin",
     "output_type": "stream",
     "text": [
      "Enter number:  6\n"
     ]
    },
    {
     "name": "stdout",
     "output_type": "stream",
     "text": [
      "Wrong answer!\n",
      "I am greater than your guess\n"
     ]
    },
    {
     "name": "stdin",
     "output_type": "stream",
     "text": [
      "Enter number:  20\n"
     ]
    },
    {
     "name": "stdout",
     "output_type": "stream",
     "text": [
      "Wrong answer!\n",
      "I am greater than your guess\n"
     ]
    },
    {
     "name": "stdin",
     "output_type": "stream",
     "text": [
      "Enter number:  28\n"
     ]
    },
    {
     "name": "stdout",
     "output_type": "stream",
     "text": [
      "Wrong answer!\n",
      "Sorry you are out of your moves! \n",
      "Correct answer is:21\n"
     ]
    }
   ],
   "source": [
    "import random\n",
    "print(\"========== Guess Me Game ==========\")\n",
    "randnum = random.randint(1,30)\n",
    "\n",
    "print('Gues me I am a number between 1 - 30');\n",
    "\n",
    "usernum1 = int(input(\"Enter number: \"))\n",
    "if usernum1 != randnum:\n",
    "    print(\"Wrong answer!\")\n",
    "    if randnum < usernum1:\n",
    "        print(\"I am less than your guess\")\n",
    "    else :\n",
    "        print(\"I am greater than your guess\")\n",
    "else:\n",
    "    print(\"Yaay!! you guessed it right!\")\n",
    "\n",
    "usernum2 = int(input(\"Enter number: \"))\n",
    "if usernum2 != randnum:\n",
    "    print(\"Wrong answer!\")\n",
    "    if randnum < usernum2:\n",
    "        print(\"I am less than your guess\")\n",
    "    else :\n",
    "        print(\"I am greater than your guess\")\n",
    "else:\n",
    "    print(\"Yaay!! you guessed it right!\")\n",
    "\n",
    "usernum3 = int(input(\"Enter number: \"))\n",
    "if usernum3 != randnum:\n",
    "    print(\"Wrong answer!\")\n",
    "    print(\"Sorry you are out of your moves! \")\n",
    "    print(\"Correct answer is:\"+str(randnum))\n",
    "else :\n",
    "    print(\"Yaay!! you guessed it right!\")"
   ]
  },
  {
   "cell_type": "code",
   "execution_count": null,
   "metadata": {},
   "outputs": [],
   "source": []
  }
 ],
 "metadata": {
  "kernelspec": {
   "display_name": "Python 3",
   "language": "python",
   "name": "python3"
  },
  "language_info": {
   "codemirror_mode": {
    "name": "ipython",
    "version": 3
   },
   "file_extension": ".py",
   "mimetype": "text/x-python",
   "name": "python",
   "nbconvert_exporter": "python",
   "pygments_lexer": "ipython3",
   "version": "3.7.4"
  }
 },
 "nbformat": 4,
 "nbformat_minor": 4
}
