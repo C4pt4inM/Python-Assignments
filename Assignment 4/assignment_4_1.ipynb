{
 "cells": [
  {
   "cell_type": "code",
   "execution_count": 7,
   "metadata": {},
   "outputs": [
    {
     "name": "stdout",
     "output_type": "stream",
     "text": [
      "========== Dictionary Example ==========\n",
      "========= Data before insertion ===========\n",
      "First name : John\n",
      "Last name : Smith\n",
      "Age : 21\n",
      "City : Los Santos\n",
      "\n",
      "========= Data after bachelors ===========\n",
      "{'first_name': 'John', 'last_name': 'Smith', 'age': 21, 'city': 'Los Santos', 'qualification': 'Bachelors'}\n",
      "\n",
      "========= Data after Masters ===========\n",
      "{'first_name': 'John', 'last_name': 'Smith', 'age': 21, 'city': 'Los Santos', 'qualification': 'Masters'}\n",
      "\n",
      "========= Data after Deletion ===========\n",
      "{'first_name': 'John', 'last_name': 'Smith', 'age': 21, 'city': 'Los Santos'}\n"
     ]
    }
   ],
   "source": [
    "print(\"========== Dictionary Example ==========\")\n",
    "myuncle = {\n",
    "    'first_name' : \"John\",\n",
    "    'last_name' : \"Smith\",\n",
    "    'age' : 21,\n",
    "    'city' : \"Los Santos\"\n",
    "}\n",
    "print(\"========= Data before insertion ===========\")\n",
    "print(\"First name : \"+ myuncle['first_name'])\n",
    "print(\"Last name : \"+ myuncle['last_name'])\n",
    "print(\"Age : \"+ str(myuncle['age']))\n",
    "print(\"City : \"+ myuncle['city'])\n",
    "\n",
    "myuncle['qualification'] = \"Bachelors\"\n",
    "print()\n",
    "print(\"========= Data after bachelors ===========\")\n",
    "print(myuncle)\n",
    "myuncle['qualification'] = \"Masters\"\n",
    "print()\n",
    "print(\"========= Data after Masters ===========\")\n",
    "print(myuncle)\n",
    "\n",
    "del myuncle['qualification']\n",
    "print()\n",
    "print(\"========= Data after Deletion ===========\")\n",
    "print(myuncle)\n",
    "\n"
   ]
  },
  {
   "cell_type": "code",
   "execution_count": null,
   "metadata": {},
   "outputs": [],
   "source": []
  }
 ],
 "metadata": {
  "kernelspec": {
   "display_name": "Python 3",
   "language": "python",
   "name": "python3"
  },
  "language_info": {
   "codemirror_mode": {
    "name": "ipython",
    "version": 3
   },
   "file_extension": ".py",
   "mimetype": "text/x-python",
   "name": "python",
   "nbconvert_exporter": "python",
   "pygments_lexer": "ipython3",
   "version": "3.7.4"
  }
 },
 "nbformat": 4,
 "nbformat_minor": 4
}
