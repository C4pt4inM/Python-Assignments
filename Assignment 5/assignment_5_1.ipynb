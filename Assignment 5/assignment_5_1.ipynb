{
 "cells": [
  {
   "cell_type": "code",
   "execution_count": 10,
   "metadata": {},
   "outputs": [
    {
     "name": "stdout",
     "output_type": "stream",
     "text": [
      "========== Factorial Function ==========\n"
     ]
    },
    {
     "name": "stdin",
     "output_type": "stream",
     "text": [
      "Enter number:  5\n"
     ]
    },
    {
     "name": "stdout",
     "output_type": "stream",
     "text": [
      "Factorial for number 5 is: 120\n"
     ]
    }
   ],
   "source": [
    "print(\"========== Factorial Function ==========\")\n",
    "\n",
    "def fact_func(number):\n",
    "    tempnum = 1\n",
    "    for n in range(number, 0 , -1):\n",
    "        tempnum = tempnum * n\n",
    "    #print(tempnum)\n",
    "    return tempnum\n",
    "\n",
    "user_inp = int(input(\"Enter number: \"))\n",
    "result = fact_func(user_inp)\n",
    "\n",
    "print(\"Factorial for number \"+str(user_inp)+\" is: \"+str(result))\n"
   ]
  },
  {
   "cell_type": "code",
   "execution_count": null,
   "metadata": {},
   "outputs": [],
   "source": []
  }
 ],
 "metadata": {
  "kernelspec": {
   "display_name": "Python 3",
   "language": "python",
   "name": "python3"
  },
  "language_info": {
   "codemirror_mode": {
    "name": "ipython",
    "version": 3
   },
   "file_extension": ".py",
   "mimetype": "text/x-python",
   "name": "python",
   "nbconvert_exporter": "python",
   "pygments_lexer": "ipython3",
   "version": "3.7.4"
  }
 },
 "nbformat": 4,
 "nbformat_minor": 4
}
