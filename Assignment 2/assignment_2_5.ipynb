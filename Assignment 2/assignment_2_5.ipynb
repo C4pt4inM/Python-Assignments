{
 "cells": [
  {
   "cell_type": "code",
   "execution_count": 3,
   "metadata": {},
   "outputs": [
    {
     "name": "stdout",
     "output_type": "stream",
     "text": [
      "====== This program will add all numbers in a list =======\n",
      "largest num: 78\n"
     ]
    }
   ],
   "source": [
    "print('====== This program will show largest numbers in a list =======')\n",
    "numlist = [2,6,3,7,45,78,35,34,6,7] \n",
    "largest_num = 0\n",
    "for numx in numlist:\n",
    "    if numx > largest_num :\n",
    "        largest_num = numx\n",
    "\n",
    "print('largest num: '+str(largest_num))"
   ]
  },
  {
   "cell_type": "code",
   "execution_count": null,
   "metadata": {},
   "outputs": [],
   "source": []
  }
 ],
 "metadata": {
  "kernelspec": {
   "display_name": "Python 3",
   "language": "python",
   "name": "python3"
  },
  "language_info": {
   "codemirror_mode": {
    "name": "ipython",
    "version": 3
   },
   "file_extension": ".py",
   "mimetype": "text/x-python",
   "name": "python",
   "nbconvert_exporter": "python",
   "pygments_lexer": "ipython3",
   "version": "3.7.4"
  }
 },
 "nbformat": 4,
 "nbformat_minor": 4
}
