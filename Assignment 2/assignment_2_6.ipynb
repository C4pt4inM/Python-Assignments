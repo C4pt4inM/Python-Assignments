{
 "cells": [
  {
   "cell_type": "code",
   "execution_count": 3,
   "metadata": {},
   "outputs": [
    {
     "name": "stdout",
     "output_type": "stream",
     "text": [
      "====== This program will print all numbers less than 5 in a list =======\n",
      "resutl : [1, 1, 2, 3, ]\n"
     ]
    }
   ],
   "source": [
    "print('====== This program will print all numbers less than 5 in a list =======')\n",
    "numlist = [1,1,2,3,5,8,13,21,34,55,89] \n",
    "result = \"\"\n",
    "for numx in numlist:\n",
    "    if numx < 5:\n",
    "        result += str(numx)+\", \"\n",
    "\n",
    "print('result : ['+str(result)+']')"
   ]
  },
  {
   "cell_type": "code",
   "execution_count": null,
   "metadata": {},
   "outputs": [],
   "source": []
  }
 ],
 "metadata": {
  "kernelspec": {
   "display_name": "Python 3",
   "language": "python",
   "name": "python3"
  },
  "language_info": {
   "codemirror_mode": {
    "name": "ipython",
    "version": 3
   },
   "file_extension": ".py",
   "mimetype": "text/x-python",
   "name": "python",
   "nbconvert_exporter": "python",
   "pygments_lexer": "ipython3",
   "version": "3.7.4"
  }
 },
 "nbformat": 4,
 "nbformat_minor": 4
}
