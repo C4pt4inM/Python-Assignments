{
 "cells": [
  {
   "cell_type": "code",
   "execution_count": 6,
   "metadata": {},
   "outputs": [
    {
     "name": "stdout",
     "output_type": "stream",
     "text": [
      "============ MARKSHEET PROGRAM ==============\n"
     ]
    },
    {
     "name": "stdin",
     "output_type": "stream",
     "text": [
      "How many subects do you have? 3\n",
      "Enter subject_0 marks: 45\n",
      "Enter subject_1 marks: 45\n",
      "Enter subject_2 marks: 45\n",
      "Enter Max marks:  100\n"
     ]
    },
    {
     "name": "stdout",
     "output_type": "stream",
     "text": [
      "You scored 74.07407407407408% marks with B grade\n",
      "Thanks for trying!\n"
     ]
    }
   ],
   "source": [
    "print('============ MARKSHEET PROGRAM ==============')\n",
    "subj_num = int(input('How many subects do you have?'))\n",
    "loopc = 0\n",
    "total_marks = 0\n",
    "if subj_num > 6 :\n",
    "    print('We dont handle this much!')\n",
    "else :\n",
    "    while loopc != subj_num :\n",
    "        subjectnum = input('Enter subject_'+str(loopc)+' marks:')\n",
    "        loopc = loopc + 1\n",
    "        total_marks = total_marks + int(subjectnum)\n",
    "        \n",
    "max_marks = int(input('Enter Max marks: '))\n",
    "\n",
    "avrg = float((max_marks/total_marks) * 100)\n",
    "avrgstr = str(avrg)\n",
    "if avrg > 85 :\n",
    "    print('You scored '+avrgstr+'% marks with A grade')\n",
    "elif avrg < 85 and avrg > 70:\n",
    "     print('You scored '+avrgstr+'% marks with B grade')\n",
    "elif avrg < 70 and avrg > 60:\n",
    "     print('You scored '+avrgstr+'% marks with C grade')\n",
    "elif avrg < 60 and avrg > 50:\n",
    "     print('You scored '+avrgstr+'% marks with D grade')\n",
    "elif avrg < 50 and avrg > 40:\n",
    "     print('You scored '+avrgstr+'% marks and FAILED with F grade')\n",
    "else:\n",
    "     print('Don\\'t know what you got!!')\n",
    "print('Thanks for trying!')\n"
   ]
  },
  {
   "cell_type": "code",
   "execution_count": null,
   "metadata": {},
   "outputs": [],
   "source": []
  }
 ],
 "metadata": {
  "kernelspec": {
   "display_name": "Python 3",
   "language": "python",
   "name": "python3"
  },
  "language_info": {
   "codemirror_mode": {
    "name": "ipython",
    "version": 3
   },
   "file_extension": ".py",
   "mimetype": "text/x-python",
   "name": "python",
   "nbconvert_exporter": "python",
   "pygments_lexer": "ipython3",
   "version": "3.7.4"
  }
 },
 "nbformat": 4,
 "nbformat_minor": 4
}
