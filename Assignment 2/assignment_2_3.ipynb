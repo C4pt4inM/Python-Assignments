{
 "cells": [
  {
   "cell_type": "code",
   "execution_count": 2,
   "metadata": {},
   "outputs": [
    {
     "name": "stdout",
     "output_type": "stream",
     "text": [
      "============ This program will tell you the length of following list =======\n",
      "List of numbers : [2,6,3,7,45,78,35,86,34,6,7]\n",
      "List alphabets : ['a','b','c','f','h','r','y','o']\n",
      "length of number list is: 11\n",
      "length of alphabets list is: 8\n"
     ]
    }
   ],
   "source": [
    "print('============ This program will tell you the length of following list =======')\n",
    "print('List of numbers : [2,6,3,7,45,78,35,86,34,6,7]')\n",
    "print(\"List alphabets : ['a','b','c','f','h','r','y','o']\")\n",
    "\n",
    "numlist = [2,6,3,7,45,78,35,86,34,6,7] \n",
    "alphalist = ['a','b','c','f','h','r','y','o']\n",
    "\n",
    "print('length of number list is: '+str(len(numlist)))\n",
    "print('length of alphabets list is: '+str(len(alphalist)))"
   ]
  },
  {
   "cell_type": "code",
   "execution_count": null,
   "metadata": {},
   "outputs": [],
   "source": []
  }
 ],
 "metadata": {
  "kernelspec": {
   "display_name": "Python 3",
   "language": "python",
   "name": "python3"
  },
  "language_info": {
   "codemirror_mode": {
    "name": "ipython",
    "version": 3
   },
   "file_extension": ".py",
   "mimetype": "text/x-python",
   "name": "python",
   "nbconvert_exporter": "python",
   "pygments_lexer": "ipython3",
   "version": "3.7.4"
  }
 },
 "nbformat": 4,
 "nbformat_minor": 4
}
