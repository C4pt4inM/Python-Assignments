{
 "cells": [
  {
   "cell_type": "code",
   "execution_count": 1,
   "metadata": {},
   "outputs": [
    {
     "name": "stdout",
     "output_type": "stream",
     "text": [
      "====== This program will add all numbers in a list =======\n",
      "Total : 223\n"
     ]
    }
   ],
   "source": [
    "print('====== This program will add all numbers in a list =======')\n",
    "numlist = [2,6,3,7,45,78,35,34,6,7] \n",
    "sum_num = 0\n",
    "for numx in numlist:\n",
    "    sum_num = sum_num + numx\n",
    "\n",
    "print('Total : '+str(sum_num))"
   ]
  },
  {
   "cell_type": "code",
   "execution_count": null,
   "metadata": {},
   "outputs": [],
   "source": []
  }
 ],
 "metadata": {
  "kernelspec": {
   "display_name": "Python 3",
   "language": "python",
   "name": "python3"
  },
  "language_info": {
   "codemirror_mode": {
    "name": "ipython",
    "version": 3
   },
   "file_extension": ".py",
   "mimetype": "text/x-python",
   "name": "python",
   "nbconvert_exporter": "python",
   "pygments_lexer": "ipython3",
   "version": "3.7.4"
  }
 },
 "nbformat": 4,
 "nbformat_minor": 4
}
