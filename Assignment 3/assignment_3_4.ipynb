{
 "cells": [
  {
   "cell_type": "code",
   "execution_count": 7,
   "metadata": {},
   "outputs": [
    {
     "name": "stdout",
     "output_type": "stream",
     "text": [
      "========== Sum all numeric items in dictionary ==========\n",
      "Sample dictionary: mydict = {\n",
      "'key1' : 5,\n",
      "'key2' : '7',\n",
      "'key3' : 8,\n",
      "'key4' : 3,\n",
      "'key5' : 7,\n",
      "'key6' : '3',\n",
      "}\n",
      "Result: 23\n"
     ]
    }
   ],
   "source": [
    "print(\"========== Sum all numeric items in dictionary ==========\")\n",
    "print(\"Sample dictionary: mydict = {\\n'key1' : 5,\\n'key2' : '7',\\n'key3' : 8,\\n'key4' : 3,\\n'key5' : 7,\\n'key6' : '3',\\n}\")\n",
    "mydict = {\n",
    "     'key1' : 5,\n",
    "     'key2' : '7',\n",
    "     'key3' : 8,\n",
    "     'key4' : 3,\n",
    "     'key5' : 7,\n",
    "     'key6' : '3',\n",
    " }\n",
    "\n",
    "num = 0\n",
    "for key in mydict :\n",
    "    if(type(mydict[key]).__name__ == 'int') :\n",
    "        num += mydict[key]\n",
    "        \n",
    "print(\"Result: \"+str(num))\n"
   ]
  },
  {
   "cell_type": "code",
   "execution_count": null,
   "metadata": {},
   "outputs": [],
   "source": []
  }
 ],
 "metadata": {
  "kernelspec": {
   "display_name": "Python 3",
   "language": "python",
   "name": "python3"
  },
  "language_info": {
   "codemirror_mode": {
    "name": "ipython",
    "version": 3
   },
   "file_extension": ".py",
   "mimetype": "text/x-python",
   "name": "python",
   "nbconvert_exporter": "python",
   "pygments_lexer": "ipython3",
   "version": "3.7.4"
  }
 },
 "nbformat": 4,
 "nbformat_minor": 4
}
