{
 "cells": [
  {
   "cell_type": "code",
   "execution_count": 1,
   "metadata": {},
   "outputs": [
    {
     "name": "stdout",
     "output_type": "stream",
     "text": [
      "========== Adding key to dictionary ==========\n",
      "Sample dictionary: mydict = {\n",
      "'key1' : 'value1',\n",
      "'key2' : 'value2',\n",
      "'key3' : 'value3'\n",
      "}\n"
     ]
    },
    {
     "name": "stdin",
     "output_type": "stream",
     "text": [
      "Enter new key:  key4\n",
      "Enter new value:  vlaue5\n"
     ]
    },
    {
     "name": "stdout",
     "output_type": "stream",
     "text": [
      "New key added to the dictionary:\n",
      "{'key1': 'value1', 'key2': 'value2', 'key3': 'value3', 'key4': 'vlaue5'}\n"
     ]
    }
   ],
   "source": [
    "print(\"========== Adding key to dictionary ==========\")\n",
    "print(\"Sample dictionary: mydict = {\\n'key1' : 'value1',\\n'key2' : 'value2',\\n'key3' : 'value3'\\n}\")\n",
    "mydict = {\n",
    "     'key1' : 'value1',\n",
    "     'key2' : 'value2',\n",
    "     'key3' : 'value3'\n",
    " }\n",
    "\n",
    "newkey = input(\"Enter new key: \")\n",
    "newval= input(\"Enter new value: \")\n",
    "mydict[newkey] = newval\n",
    "print(\"New key added to the dictionary:\")\n",
    "print(mydict)"
   ]
  },
  {
   "cell_type": "code",
   "execution_count": null,
   "metadata": {},
   "outputs": [],
   "source": []
  }
 ],
 "metadata": {
  "kernelspec": {
   "display_name": "Python 3",
   "language": "python",
   "name": "python3"
  },
  "language_info": {
   "codemirror_mode": {
    "name": "ipython",
    "version": 3
   },
   "file_extension": ".py",
   "mimetype": "text/x-python",
   "name": "python",
   "nbconvert_exporter": "python",
   "pygments_lexer": "ipython3",
   "version": "3.7.4"
  }
 },
 "nbformat": 4,
 "nbformat_minor": 4
}
