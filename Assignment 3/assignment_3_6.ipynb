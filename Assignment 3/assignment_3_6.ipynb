{
 "cells": [
  {
   "cell_type": "code",
   "execution_count": 3,
   "metadata": {},
   "outputs": [
    {
     "name": "stdout",
     "output_type": "stream",
     "text": [
      "========== Check if key exists in dictionary ==========\n",
      "Sample dictionary: mydict = {\n",
      "'key1' : 5,\n",
      "'key2' : '7',\n",
      "'key3' : 8,\n",
      "'key4' : 3,\n",
      "'key5' : 7,\n",
      "'key6' : '3',\n",
      "}\n"
     ]
    },
    {
     "name": "stdin",
     "output_type": "stream",
     "text": [
      "Enter key to find:  key2\n"
     ]
    },
    {
     "name": "stdout",
     "output_type": "stream",
     "text": [
      "key exists\n"
     ]
    }
   ],
   "source": [
    "print(\"========== Check if key exists in dictionary ==========\")\n",
    "print(\"Sample dictionary: mydict = {\\n'key1' : 5,\\n'key2' : '7',\\n'key3' : 8,\\n'key4' : 3,\\n'key5' : 7,\\n'key6' : '3',\\n}\")\n",
    "mydict = {\n",
    "     'key1' : 5,\n",
    "     'key2' : '7',\n",
    "     'key3' : 8,\n",
    "     'key4' : 3,\n",
    "     'key5' : 7,\n",
    "     'key6' : '3',\n",
    " }\n",
    "\n",
    "mykey = input(\"Enter key to find: \")\n",
    "\n",
    "if(mydict.get(mykey)) :\n",
    "    print(\"key exists\")\n",
    "else :\n",
    "    print(\"key not exists\")"
   ]
  },
  {
   "cell_type": "code",
   "execution_count": null,
   "metadata": {},
   "outputs": [],
   "source": []
  }
 ],
 "metadata": {
  "kernelspec": {
   "display_name": "Python 3",
   "language": "python",
   "name": "python3"
  },
  "language_info": {
   "codemirror_mode": {
    "name": "ipython",
    "version": 3
   },
   "file_extension": ".py",
   "mimetype": "text/x-python",
   "name": "python",
   "nbconvert_exporter": "python",
   "pygments_lexer": "ipython3",
   "version": "3.7.4"
  }
 },
 "nbformat": 4,
 "nbformat_minor": 4
}
