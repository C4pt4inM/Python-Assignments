{
 "cells": [
  {
   "cell_type": "code",
   "execution_count": 13,
   "metadata": {},
   "outputs": [
    {
     "name": "stdout",
     "output_type": "stream",
     "text": [
      "========== Check if numeric value exist in List ==========\n",
      "Sample List = ['8',4,'a','45','John','1a']\n",
      "Numeric value is present! 4.5\n"
     ]
    }
   ],
   "source": [
    "print(\"========== Check if numeric value exist in List ==========\")\n",
    "print(\"Sample List = ['8',4,'a','45','John','1a']\")\n",
    "samp_list = ['8','4','a',4.5,'John','1a']\n",
    "reqnum = 0\n",
    "for num in samp_list :\n",
    "    if type(num).__name__ == 'int' or type(num).__name__ == 'float' : \n",
    "        reqnum = num\n",
    "    else :\n",
    "        reqnum = reqnum\n",
    "        \n",
    "if reqnum != 0 :\n",
    "    print(\"Numeric value is present! \"+ str(reqnum))\n",
    "else : \n",
    "    print(\"Numeric value not present! \")"
   ]
  },
  {
   "cell_type": "code",
   "execution_count": null,
   "metadata": {},
   "outputs": [],
   "source": []
  }
 ],
 "metadata": {
  "kernelspec": {
   "display_name": "Python 3",
   "language": "python",
   "name": "python3"
  },
  "language_info": {
   "codemirror_mode": {
    "name": "ipython",
    "version": 3
   },
   "file_extension": ".py",
   "mimetype": "text/x-python",
   "name": "python",
   "nbconvert_exporter": "python",
   "pygments_lexer": "ipython3",
   "version": "3.7.4"
  }
 },
 "nbformat": 4,
 "nbformat_minor": 4
}
