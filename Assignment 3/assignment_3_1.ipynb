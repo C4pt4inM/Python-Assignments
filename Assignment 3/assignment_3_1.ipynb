{
 "cells": [
  {
   "cell_type": "code",
   "execution_count": 11,
   "metadata": {},
   "outputs": [
    {
     "name": "stdout",
     "output_type": "stream",
     "text": [
      "========== Python Calculator ==========\n",
      "Enter number against calculation operation:\n",
      "1. Addition \n",
      "2. Subtraction \n",
      "3.Division \n",
      "4.Multipilication \n",
      "5.Power(Exponential)\n"
     ]
    },
    {
     "name": "stdin",
     "output_type": "stream",
     "text": [
      "Ente number:  2\n"
     ]
    },
    {
     "name": "stdout",
     "output_type": "stream",
     "text": [
      "======= Subtraction =======\n"
     ]
    },
    {
     "name": "stdin",
     "output_type": "stream",
     "text": [
      "Enter number to subtract from:  5\n",
      "Enter number to subtract:  25\n"
     ]
    },
    {
     "name": "stdout",
     "output_type": "stream",
     "text": [
      "Result: -20\n"
     ]
    }
   ],
   "source": [
    "print(\"========== Python Calculator ==========\")\n",
    "print(\"Enter number against calculation operation:\")\n",
    "print(\"1. Addition \\n2. Subtraction \\n3.Division \\n4.Multipilication \\n5.Power(Exponential)\")\n",
    "op_res = int(input(\"Ente number: \"))\n",
    "if op_res == 1 :\n",
    "    # addition function\n",
    "    print(\"======= Addition =======\")\n",
    "    num1 = int(input('Enter number 1: '))\n",
    "    num2 = int(input('Enter number 2: '))\n",
    "    res = num1 + num2\n",
    "    print(\"Result: \"+str(res))\n",
    "elif op_res == 2 :\n",
    "    # subtraction function\n",
    "    print(\"======= Subtraction =======\")\n",
    "    num1 = int(input('Enter number to subtract from: '))\n",
    "    num2 = int(input('Enter number to subtract: '))\n",
    "    res = num1 - num2\n",
    "    print(\"Result: \"+str(res))\n",
    "elif op_res == 3 :\n",
    "    # division function\n",
    "    print(\"======= Division =======\")\n",
    "    num1 = float(input('Enter number to divide: '))\n",
    "    num2 = float(input('Enter number to divide by: '))\n",
    "    res = num1 / num2\n",
    "    print(\"Result: \"+str(res))\n",
    "elif op_res == 4 :\n",
    "    # multiplication function\n",
    "    print(\"======= Multiplication =======\")\n",
    "    num1 = float(input('Enter number 1: '))\n",
    "    num2 = float(input('Enter number 2: '))\n",
    "    res = num1 * num2\n",
    "    print(\"Result: \"+str(res))\n",
    "elif op_res == 5 :\n",
    "    # Power function\n",
    "    print(\"======= Addition =======\")\n",
    "    num1 = int(input('Enter number: '))\n",
    "    num2 = int(input('Enter Power: '))\n",
    "    res = num1 ** num2\n",
    "    print(\"Result: \"+str(res))\n",
    "else :\n",
    "    print('Invalid Operation! Try Again!')"
   ]
  },
  {
   "cell_type": "code",
   "execution_count": null,
   "metadata": {},
   "outputs": [],
   "source": []
  }
 ],
 "metadata": {
  "kernelspec": {
   "display_name": "Python 3",
   "language": "python",
   "name": "python3"
  },
  "language_info": {
   "codemirror_mode": {
    "name": "ipython",
    "version": 3
   },
   "file_extension": ".py",
   "mimetype": "text/x-python",
   "name": "python",
   "nbconvert_exporter": "python",
   "pygments_lexer": "ipython3",
   "version": "3.7.4"
  }
 },
 "nbformat": 4,
 "nbformat_minor": 4
}
